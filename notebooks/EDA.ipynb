{
 "cells": [
  {
   "cell_type": "code",
   "execution_count": 1,
   "metadata": {},
   "outputs": [
    {
     "name": "stdout",
     "output_type": "stream",
     "text": [
      "/Users/vicrajag/Projects/fashion-mnist\n"
     ]
    }
   ],
   "source": [
    "# Initialization code\n",
    "import sys\n",
    "import os\n",
    "assert \"\" in sys.path\n",
    "os.chdir(\"..\")\n",
    "print(os.getcwd())"
   ]
  },
  {
   "cell_type": "code",
   "execution_count": 2,
   "metadata": {},
   "outputs": [
    {
     "name": "stdout",
     "output_type": "stream",
     "text": [
      "Training samples:\n",
      "Array shape: (60000, 784)\n",
      "Array dtype: uint8\n",
      "Array object type: ndarray\n",
      "\n",
      "Training labels:\n",
      "Array shape: (60000,)\n",
      "Array dtype: uint8\n",
      "Array object type: ndarray\n",
      "Range of values in X_train: [0, 255]\n",
      "Range of values in y_train: [0, 9]\n"
     ]
    }
   ],
   "source": [
    "# Load training data\n",
    "from src import utils\n",
    "from fashion_mnist_submodule.utils import mnist_reader\n",
    "import numpy as np\n",
    "\n",
    "path_to_data = os.path.join(\"fashion_mnist_submodule\", \"data\", \"fashion\")\n",
    "X_train, y_train = mnist_reader.load_mnist(path_to_data, kind=\"train\")\n",
    "print(\"Training samples:\")\n",
    "utils.print_array_summary(X_train)\n",
    "print(\"\\nTraining labels:\")\n",
    "utils.print_array_summary(y_train)\n",
    "\n",
    "print(\"Range of values in X_train: [\", np.amin(X_train), \", \", np.amax(X_train), \"]\", sep=\"\")\n",
    "print(\"Range of values in y_train: [\", np.amin(y_train), \", \", np.amax(y_train), \"]\", sep=\"\")"
   ]
  },
  {
   "cell_type": "code",
   "execution_count": 3,
   "metadata": {},
   "outputs": [
    {
     "name": "stdout",
     "output_type": "stream",
     "text": [
      "\n",
      "Testing samples:\n",
      "Array shape: (10000, 784)\n",
      "Array dtype: uint8\n",
      "Array object type: ndarray\n",
      "\n",
      "Testing labels:\n",
      "Array shape: (10000,)\n",
      "Array dtype: uint8\n",
      "Array object type: ndarray\n",
      "Range of values in X_test: [0, 255]\n",
      "Range of values in y_test: [0, 9]\n"
     ]
    }
   ],
   "source": [
    "path_to_data = os.path.join(\"fashion_mnist_submodule\", \"data\", \"fashion\")\n",
    "X_test, y_test = mnist_reader.load_mnist(path_to_data, kind=\"t10k\")\n",
    "print(\"\\nTesting samples:\")\n",
    "utils.print_array_summary(X_test)\n",
    "print(\"\\nTesting labels:\")\n",
    "utils.print_array_summary(y_test)\n",
    "\n",
    "print(\"Range of values in X_test: [\", np.amin(X_test), \", \", np.amax(X_test), \"]\", sep=\"\")\n",
    "print(\"Range of values in y_test: [\", np.amin(y_test), \", \", np.amax(y_test), \"]\", sep=\"\")"
   ]
  },
  {
   "cell_type": "code",
   "execution_count": 4,
   "metadata": {},
   "outputs": [
    {
     "data": {
      "image/png": "[encoded data removed]",
      "text/plain": [
       "<Figure size 432x288 with 1 Axes>"
      ]
     },
     "metadata": {
      "needs_background": "light"
     },
     "output_type": "display_data"
    }
   ],
   "source": [
    "# Check whether the training samples are sorted by category\n",
    "%matplotlib inline\n",
    "import matplotlib.pyplot as plt\n",
    "plt.scatter(np.array(range(60000)), y_train)\n",
    "plt.show()"
   ]
  },
  {
   "cell_type": "code",
   "execution_count": 5,
   "metadata": {},
   "outputs": [
    {
     "name": "stdout",
     "output_type": "stream",
     "text": [
      "[9 0 0 3 0 2 7 2 5 5 0 9 5 5 7 9 1 0 6 4 3 1 4 8 4 3 0 2 4 4 5 3 6 6 0 8 5\n",
      " 2 1 6 6 7 9 5 9 2 7 3 0 3 3 3 7 2 2 6 6 8 3 3 5 0 5 5 0 2 0 0 4 1 3 1 6 3\n",
      " 1 4 4 6 1 9 1 3 5 7 9 7 1 7 9 9 9 3 2 9 3 6 4 1 1 8]\n",
      "[0 1 3 5 6 0 0 9 2 9 3 0 2 8 1 1 4 2 1 8 9 4 0 8 0 1 3 5 3 8 4 1 9 0 0 3 1\n",
      " 2 1 7 7 5 8 0 2 2 1 3 8 8 6 7 2 2 3 5 1 2 2 4 3 6 8 4 2 0 3 8 6 6 9 3 5 6\n",
      " 0 4 4 2 9 7 3 2 4 5 4 0 4 6 6 1 4 1 7 2 8 5 1 3 0 5]\n"
     ]
    }
   ],
   "source": [
    "# It seems like the answer is no; they're all mixed together. Let's confirm that.\n",
    "print(y_train[:100])\n",
    "print(y_train[-100:])"
   ]
  },
  {
   "cell_type": "code",
   "execution_count": 7,
   "metadata": {},
   "outputs": [
    {
     "data": {
      "image/png": "[encoded data removed]",
      "text/plain": [
       "<Figure size 432x288 with 1 Axes>"
      ]
     },
     "metadata": {
      "needs_background": "light"
     },
     "output_type": "display_data"
    }
   ],
   "source": [
    "# Next we will visualize some images.\n",
    "plt.imshow(X_train[0,:].reshape(28,28))\n",
    "plt.show()\n",
    "# The default colormap is viridis, which is perfectly fine for our purposes."
   ]
  },
  {
   "cell_type": "code",
   "execution_count": 8,
   "metadata": {},
   "outputs": [
    {
     "data": {
      "image/png": "[encoded data removed]",
      "text/plain": [
       "<Figure size 432x288 with 1 Axes>"
      ]
     },
     "metadata": {
      "needs_background": "light"
     },
     "output_type": "display_data"
    }
   ],
   "source": [
    "plt.imshow(X_train[1,:].reshape(28,28))\n",
    "plt.show()"
   ]
  },
  {
   "cell_type": "code",
   "execution_count": 9,
   "metadata": {},
   "outputs": [
    {
     "data": {
      "image/png": "[encoded data removed]",
      "text/plain": [
       "<Figure size 432x288 with 1 Axes>"
      ]
     },
     "metadata": {
      "needs_background": "light"
     },
     "output_type": "display_data"
    }
   ],
   "source": [
    "plt.imshow(X_train[2,:].reshape(28,28))\n",
    "plt.show()"
   ]
  },
  {
   "cell_type": "code",
   "execution_count": 10,
   "metadata": {},
   "outputs": [
    {
     "data": {
      "image/png": "[encoded data removed]",
      "text/plain": [
       "<Figure size 432x288 with 1 Axes>"
      ]
     },
     "metadata": {
      "needs_background": "light"
     },
     "output_type": "display_data"
    }
   ],
   "source": [
    "plt.imshow(X_train[3,:].reshape(28,28))\n",
    "plt.show()"
   ]
  },
  {
   "cell_type": "code",
   "execution_count": 11,
   "metadata": {},
   "outputs": [
    {
     "data": {
      "image/png": "[encoded data removed]",
      "text/plain": [
       "<Figure size 432x288 with 1 Axes>"
      ]
     },
     "metadata": {
      "needs_background": "light"
     },
     "output_type": "display_data"
    }
   ],
   "source": [
    "plt.imshow(X_train[4,:].reshape(28,28))\n",
    "plt.show()"
   ]
  },
  {
   "cell_type": "code",
   "execution_count": 12,
   "metadata": {},
   "outputs": [
    {
     "data": {
      "image/png": "[encoded data removed]",
      "text/plain": [
       "<Figure size 432x288 with 1 Axes>"
      ]
     },
     "metadata": {
      "needs_background": "light"
     },
     "output_type": "display_data"
    }
   ],
   "source": [
    "plt.imshow(X_train[5,:].reshape(28,28))\n",
    "plt.show()"
   ]
  },
  {
   "cell_type": "code",
   "execution_count": null,
   "metadata": {},
   "outputs": [],
   "source": []
  }
 ],
 "metadata": {
  "kernelspec": {
   "display_name": "Python 3",
   "language": "python",
   "name": "python3"
  },
  "language_info": {
   "codemirror_mode": {
    "name": "ipython",
    "version": 3
   },
   "file_extension": ".py",
   "mimetype": "text/x-python",
   "name": "python",
   "nbconvert_exporter": "python",
   "pygments_lexer": "ipython3",
   "version": "3.6.9"
  }
 },
 "nbformat": 4,
 "nbformat_minor": 2
}
