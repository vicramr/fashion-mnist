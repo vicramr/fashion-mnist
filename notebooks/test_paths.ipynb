{
 "cells": [
  {
   "cell_type": "markdown",
   "metadata": {},
   "source": [
    "# test_paths\n",
    "This notebook is intended to be run with `jupyter nbconvert` by our automated tests, to ensure that the way in which we deal with paths is portable.\n",
    "\n",
    "Unfortunately, I have not been able to find any documentation from IPython or Jupyter that specifies what the rules are for setting the current working directory for the IPython kernel when running a notebook. I'm setting up these tests to try and figure out whether there even are consistent rules which I can follow."
   ]
  },
  {
   "cell_type": "code",
   "execution_count": 1,
   "metadata": {},
   "outputs": [],
   "source": [
    "import sys\n",
    "import os\n",
    "assert \"\" in sys.path\n",
    "os.chdir(\"..\")"
   ]
  },
  {
   "cell_type": "code",
   "execution_count": 2,
   "metadata": {},
   "outputs": [
    {
     "name": "stdout",
     "output_type": "stream",
     "text": [
      "Array shape: (60000, 784)\n",
      "Array dtype: uint8\n",
      "Array object type: ndarray\n",
      "Array shape: (60000,)\n",
      "Array dtype: uint8\n",
      "Array object type: ndarray\n",
      "Array shape: (10000, 784)\n",
      "Array dtype: uint8\n",
      "Array object type: ndarray\n",
      "Array shape: (10000,)\n",
      "Array dtype: uint8\n",
      "Array object type: ndarray\n"
     ]
    }
   ],
   "source": [
    "from src import utils\n",
    "(X_train, y_train) = utils.load_raw_training_data()\n",
    "(X_test, y_test) = utils.load_raw_testing_data()\n",
    "\n",
    "utils.print_array_summary(X_train)\n",
    "utils.print_array_summary(y_train)\n",
    "utils.print_array_summary(X_test)\n",
    "utils.print_array_summary(y_test)"
   ]
  }
 ],
 "metadata": {
  "kernelspec": {
   "display_name": "Python 3",
   "language": "python",
   "name": "python3"
  },
  "language_info": {
   "codemirror_mode": {
    "name": "ipython",
    "version": 3
   },
   "file_extension": ".py",
   "mimetype": "text/x-python",
   "name": "python",
   "nbconvert_exporter": "python",
   "pygments_lexer": "ipython3",
   "version": "3.6.9"
  }
 },
 "nbformat": 4,
 "nbformat_minor": 2
}
